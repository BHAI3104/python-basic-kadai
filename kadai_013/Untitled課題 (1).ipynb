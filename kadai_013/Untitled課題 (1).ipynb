{
  "nbformat": 4,
  "nbformat_minor": 0,
  "metadata": {
    "colab": {
      "provenance": []
    },
    "kernelspec": {
      "name": "python3",
      "display_name": "Python 3"
    },
    "language_info": {
      "name": "python"
    }
  },
  "cells": [
    {
      "cell_type": "code",
      "source": [
        "def calculate_total(price, shopping_fee):\n",
        "    shopping_fee = 1 + shopping_fee * price\n",
        "    total_price = price + shopping_fee\n",
        "    #合計金額を出力する\n",
        "    print(f\"合計金額は{total_price}で円です\")\n",
        "\n",
        "#関数を呼び出して引数を渡す\n",
        "calculate_total(1000, 0.1)"
      ],
      "metadata": {
        "colab": {
          "base_uri": "https://localhost:8080/"
        },
        "id": "L-nZhcathnEH",
        "outputId": "3a96d9da-0eca-487c-d68e-5d7462647390"
      },
      "execution_count": null,
      "outputs": [
        {
          "output_type": "stream",
          "name": "stdout",
          "text": [
            "合計金額は1101.0で円です\n"
          ]
        }
      ]
    }
  ]
}