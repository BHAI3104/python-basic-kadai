{
  "nbformat": 4,
  "nbformat_minor": 0,
  "metadata": {
    "colab": {
      "provenance": []
    },
    "kernelspec": {
      "name": "python3",
      "display_name": "Python 3"
    },
    "language_info": {
      "name": "python"
    }
  },
  "cells": [
    {
      "cell_type": "code",
      "execution_count": null,
      "metadata": {
        "id": "T24oAgjD5DPC",
        "outputId": "0fcaae6f-7a58-4cc1-9ccf-c8f95768844c",
        "colab": {
          "base_uri": "https://localhost:8080/"
        }
      },
      "outputs": [
        {
          "output_type": "stream",
          "name": "stdout",
          "text": [
            "水\n",
            "金\n",
            "地\n",
            "火\n",
            "木\n",
            "土\n",
            "天\n",
            "海\n",
            "冥\n"
          ]
        }
      ],
      "source": [
        "list = [\"水\",\"金\",\"地\",\"火\",\"木\",\"土\",\"天\",\"海\",\"冥\"]\n",
        "#インデックス数を変数nに代入する\n",
        "n = 0\n",
        "# インデックス数が要素数より小さい間はlistを出力する\n",
        "while n < len(list):\n",
        "    print(list[n])\n",
        "\n",
        "    n = n + 1\n"
      ]
    },
    {
      "cell_type": "code",
      "source": [
        "def calculate_total(price, shopping_fee):\n",
        "    shopping_fee = 1 + shopping_fee * price\n",
        "    total_price = price + shopping_fee\n",
        "    #合計金額を出力する\n",
        "    print(f\"合計金額は{total_price}で円です\")\n",
        "\n",
        "#関数を呼び出して引数を渡す\n",
        "calculate_total(1000, 0.1)"
      ],
      "metadata": {
        "colab": {
          "base_uri": "https://localhost:8080/"
        },
        "id": "L-nZhcathnEH",
        "outputId": "3a96d9da-0eca-487c-d68e-5d7462647390"
      },
      "execution_count": 1,
      "outputs": [
        {
          "output_type": "stream",
          "name": "stdout",
          "text": [
            "合計金額は1101.0で円です\n"
          ]
        }
      ]
    },
    {
      "cell_type": "code",
      "source": [],
      "metadata": {
        "id": "h88LEbAA68kG"
      },
      "execution_count": null,
      "outputs": []
    },
    {
      "cell_type": "code",
      "source": [
        "Humans = {\"h1\": 36, \"h2\": 18, \"h3\": 42, \"h4\": 14}\n",
        "# 連想配列に要素を追加する\n",
        "Humans[\"h5\"] = 24\n",
        "Humans[\"h6\"] = 12\n",
        "\n",
        "print(Humans)\n",
        "\n",
        "# 連想配列の要素数を変数nに代入する\n",
        "n = 0\n",
        "\n",
        "#インデックス数より要素の数が少ない間は以下の処理を続ける\n",
        "while n > len(Humans):\n",
        "    #要素は変数humanに代入する\n",
        "    human = Humans[n]\n",
        "\n",
        "    #クラスを定義する\n",
        "    class Human:\n",
        "        #コンストラクタを定義する\n",
        "        def  __init__(self, name, age):\n",
        "          self.name = name\n",
        "          self.age = age\n",
        "\n",
        "    #メゾットを定義する\n",
        "    def check_adult(self):\n",
        "        if self.age >= 20:\n",
        "            print(\"大人である\")\n",
        "        else:\n",
        "            print(\"大人ではない\")\n",
        "\n",
        "#インスタンス化する\n",
        "human = Human()\n",
        "human.check_adult(human)\n"
      ],
      "metadata": {
        "colab": {
          "base_uri": "https://localhost:8080/",
          "height": 276
        },
        "id": "w1l7BlJv7Hny",
        "outputId": "d49d3bd0-ccff-4d4b-e35f-338aedcc89fa"
      },
      "execution_count": null,
      "outputs": [
        {
          "output_type": "stream",
          "name": "stdout",
          "text": [
            "{'h1': 36, 'h2': 18, 'h3': 42, 'h4': 14, 'h5': 24, 'h6': 12}\n"
          ]
        },
        {
          "output_type": "error",
          "ename": "NameError",
          "evalue": "ignored",
          "traceback": [
            "\u001b[0;31m---------------------------------------------------------------------------\u001b[0m",
            "\u001b[0;31mNameError\u001b[0m                                 Traceback (most recent call last)",
            "\u001b[0;32m<ipython-input-11-9c21918b5aeb>\u001b[0m in \u001b[0;36m<cell line: 31>\u001b[0;34m()\u001b[0m\n\u001b[1;32m     29\u001b[0m \u001b[0;34m\u001b[0m\u001b[0m\n\u001b[1;32m     30\u001b[0m \u001b[0;31m#インスタンス化する\u001b[0m\u001b[0;34m\u001b[0m\u001b[0;34m\u001b[0m\u001b[0m\n\u001b[0;32m---> 31\u001b[0;31m \u001b[0mhuman\u001b[0m \u001b[0;34m=\u001b[0m \u001b[0mHuman\u001b[0m\u001b[0;34m(\u001b[0m\u001b[0;34m)\u001b[0m\u001b[0;34m\u001b[0m\u001b[0;34m\u001b[0m\u001b[0m\n\u001b[0m\u001b[1;32m     32\u001b[0m \u001b[0mhuman\u001b[0m\u001b[0;34m.\u001b[0m\u001b[0mcheck_adult\u001b[0m\u001b[0;34m(\u001b[0m\u001b[0mhuman\u001b[0m\u001b[0;34m)\u001b[0m\u001b[0;34m\u001b[0m\u001b[0;34m\u001b[0m\u001b[0m\n\u001b[1;32m     33\u001b[0m \u001b[0;34m\u001b[0m\u001b[0m\n",
            "\u001b[0;31mNameError\u001b[0m: name 'Human' is not defined"
          ]
        }
      ]
    }
  ]
}