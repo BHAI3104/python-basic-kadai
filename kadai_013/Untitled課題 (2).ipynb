{
  "nbformat": 4,
  "nbformat_minor": 0,
  "metadata": {
    "colab": {
      "provenance": []
    },
    "kernelspec": {
      "name": "python3",
      "display_name": "Python 3"
    },
    "language_info": {
      "name": "python"
    }
  },
  "cells": [
    {
      "cell_type": "code",
      "source": [
        "def calculate_total(price, tax):\n",
        "    consumption_tax = tax * price\n",
        "    total_price = price + consumption_tax\n",
        "    #合計金額を出力する\n",
        "    print(f\"合計金額は{total_price}円です\")\n",
        "\n",
        "#関数を呼び出して引数を渡す\n",
        "calculate_total(1000, 0.1)"
      ],
      "metadata": {
        "colab": {
          "base_uri": "https://localhost:8080/"
        },
        "id": "L-nZhcathnEH",
        "outputId": "8b7c0dfc-a7c0-4178-b75a-f9cc5a839ee1"
      },
      "execution_count": 8,
      "outputs": [
        {
          "output_type": "stream",
          "name": "stdout",
          "text": [
            "合計金額は1100.0円です\n"
          ]
        }
      ]
    }
  ]
}