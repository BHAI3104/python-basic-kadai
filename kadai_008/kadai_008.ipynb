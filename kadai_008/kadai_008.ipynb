{
  "nbformat": 4,
  "nbformat_minor": 0,
  "metadata": {
    "colab": {
      "provenance": []
    },
    "kernelspec": {
      "name": "python3",
      "display_name": "Python 3"
    },
    "language_info": {
      "name": "python"
    }
  },
  "cells": [
    {
      "cell_type": "code",
      "source": [
        "# 変数varにランダムな関数を代入するためにrandomモジュールをインポート\n",
        "import random\n",
        "\n",
        "# 変数varに正の整数を代入する\n",
        "var = random.randint(1, 70)\n",
        "\n",
        "# 変数varを出力する\n",
        "print(var)\n",
        "\n",
        "# 変数varが3の倍数と5の倍数、両方に該当する場合は、「FizzBuzz」を出力\n",
        "if var % 3 == 0 and var % 5 == 0:\n",
        "    print(\"FizzBuzz\")\n",
        "\n",
        "# 変数varが3の倍数の場合は、「Fizz」を出力\n",
        "elif var % 3 == 0:\n",
        "    print(\"Fizz\")\n",
        "\n",
        "# 変数varが5の倍数の場合は、「Buzz」を出力\n",
        "elif var % 5 == 0:\n",
        "    print(\"Buzz\")\n",
        "\n",
        "# どれにも該当しない場合は、変数varの値を出力\n",
        "else:\n",
        "    print(var)"
      ],
      "metadata": {
        "colab": {
          "base_uri": "https://localhost:8080/"
        },
        "id": "QartkD4YWXQz",
        "outputId": "6f8dca06-6307-492f-8a71-9da75815da2f"
      },
      "execution_count": 60,
      "outputs": [
        {
          "output_type": "stream",
          "name": "stdout",
          "text": [
            "30\n",
            "FizzBuzz\n"
          ]
        }
      ]
    }
  ]
}