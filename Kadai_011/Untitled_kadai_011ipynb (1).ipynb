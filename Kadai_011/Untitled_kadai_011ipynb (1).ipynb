{
  "nbformat": 4,
  "nbformat_minor": 0,
  "metadata": {
    "colab": {
      "provenance": []
    },
    "kernelspec": {
      "name": "python3",
      "display_name": "Python 3"
    },
    "language_info": {
      "name": "python"
    }
  },
  "cells": [
    {
      "cell_type": "code",
      "execution_count": null,
      "metadata": {
        "id": "O48jBnw75ZwH",
        "colab": {
          "base_uri": "https://localhost:8080/"
        },
        "outputId": "f0ec5b7a-53ab-498b-fd52-463d7aa98720"
      },
      "outputs": [
        {
          "output_type": "stream",
          "name": "stdout",
          "text": [
            "水\n",
            "金\n",
            "地\n",
            "火\n",
            "木\n",
            "土\n",
            "天\n",
            "海\n",
            "冥\n",
            "水\n",
            "金\n",
            "地\n",
            "火\n",
            "木\n",
            "土\n",
            "天\n",
            "海\n",
            "冥\n"
          ]
        }
      ],
      "source": [
        "list = [\"水\",\"金\",\"地\",\"火\",\"木\",\"土\",\"天\",\"海\",\"冥\"]\n",
        "for i in list:\n",
        "    print(i)\n",
        "\n",
        "#インデックス数を変数indexに代入する\n",
        "index = 0\n",
        "#インデックス数が要素数より小さい間はlistを出力する\n",
        "while index < len(list):\n",
        "    print(list[index])\n",
        "\n",
        "    index = index + 1"
      ]
    }
  ]
}