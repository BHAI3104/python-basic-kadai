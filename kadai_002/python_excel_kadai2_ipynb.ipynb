{
  "nbformat": 4,
  "nbformat_minor": 0,
  "metadata": {
    "colab": {
      "provenance": []
    },
    "kernelspec": {
      "name": "python3",
      "display_name": "Python 3"
    },
    "language_info": {
      "name": "python"
    }
  },
  "cells": [
    {
      "cell_type": "code",
      "execution_count": null,
      "metadata": {
        "colab": {
          "base_uri": "https://localhost:8080/"
        },
        "id": "fkLg1YAh2wID",
        "outputId": "3b321fa7-e4ac-41de-9c35-773c1eb7f76f"
      },
      "outputs": [
        {
          "output_type": "stream",
          "name": "stdout",
          "text": [
            "0    200.0\n",
            "1    200.0\n",
            "2    200.0\n",
            "3    200.0\n",
            "4    200.0\n",
            "Name: 平均売上, dtype: float64\n"
          ]
        }
      ],
      "source": [
        "import pandas as pd\n",
        "df = pd.DataFrame({\n",
        "    '日付':\n",
        "    ['2023-05-17', '2023-05-18', '2023-05-19', '2023-05-20', '2023-05-21'],\n",
        "    '社員名': ['山田', '佐藤', '鈴木', '田中', '高橋'],\n",
        "    '売上': [100, 200, 150, 300, 250],\n",
        "    '部門': ['メーカー', '代理店', 'メーカー', '商社', '代理店']\n",
        "})\n",
        "\n",
        "#売上の平均を求めて、新しい列「平均売上」を作成\n",
        "df['平均売上'] = df['売上'].mean()\n",
        "df['平均売上'] =pd.to_numeric(df['平均売上'])\n",
        "print(df['平均売上'])\n",
        "\n",
        "# 平均売上で分岐して、業績レベルを求める関数「performance」を適用\n",
        "def performance(level):\n",
        "    result = '';\n",
        "    for value in df['平均売上']:\n",
        "        if level >= value + 50:\n",
        "            result = 'A';\n",
        "        elif level >= value:\n",
        "            result = 'B';\n",
        "        else:\n",
        "            result = 'C';\n",
        "        return result\n",
        "\n",
        "# 「業績レベル」列を作成し、関数「performance」を適用して値を設定\n",
        "df['業績レベル'] = df['売上'].apply(performance)\n",
        "\n",
        "# Excelファイルを作成\n",
        "writer = pd.ExcelWriter('業績.xlsx')\n",
        "\n",
        "# DataframeオブジェクトをExcelファイルに書き込む\n",
        "df.to_excel(writer, sheet_name='sheet1', index=False)\n",
        "\n",
        "#Excelファイルを閉じる\n",
        "writer.close()\n",
        "\n",
        "\n",
        "\n",
        "\n",
        "\n",
        "\n",
        "\n",
        "\n",
        "\n"
      ]
    }
  ]
}