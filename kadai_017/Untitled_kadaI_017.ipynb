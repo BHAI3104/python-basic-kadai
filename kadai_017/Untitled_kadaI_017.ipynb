{
  "nbformat": 4,
  "nbformat_minor": 0,
  "metadata": {
    "colab": {
      "provenance": []
    },
    "kernelspec": {
      "name": "python3",
      "display_name": "Python 3"
    },
    "language_info": {
      "name": "python"
    }
  },
  "cells": [
    {
      "cell_type": "code",
      "execution_count": 7,
      "metadata": {
        "colab": {
          "base_uri": "https://localhost:8080/"
        },
        "id": "P4wMJAwCXzP4",
        "outputId": "93d4945a-3eb9-4b41-963d-de03df5fe4b2"
      },
      "outputs": [
        {
          "output_type": "stream",
          "name": "stdout",
          "text": [
            "侍太郎は大人である\n",
            "侍一郎は大人である\n",
            "侍二郎は大人でない\n",
            "侍三郎は大人でない\n"
          ]
        }
      ],
      "source": [
        "class Human:\n",
        "    #コンストラクタを定義する\n",
        "    def __init__(self, name, age):\n",
        "        self.name = name\n",
        "        self.age = age\n",
        "\n",
        "    #メゾットを定義する\n",
        "    def check_adult(self):\n",
        "        if self.age >= 20:\n",
        "            print(f\"{self.name}は大人である\")\n",
        "        elif self.age < 20:\n",
        "            print(f\"{self.name}は大人でない\")\n",
        "\n",
        "#インスタンス化する\n",
        "humans = [Human(\"侍太郎\", 42),\n",
        "          Human(\"侍一郎\", 36),\n",
        "          Human(\"侍二郎\", 18),\n",
        "          Human(\"侍三郎\", 12)]\n",
        "\n",
        "#インデックス数を変数indexに代入する\n",
        "index = 0\n",
        "\n",
        "#リストの要素数文だけcheck_adultメソッドを呼び出す\n",
        "while index < len(humans):\n",
        "    humans[index].check_adult()\n",
        "    index = index + 1"
      ]
    }
  ]
}