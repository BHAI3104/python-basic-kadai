{
  "nbformat": 4,
  "nbformat_minor": 0,
  "metadata": {
    "colab": {
      "provenance": []
    },
    "kernelspec": {
      "name": "python3",
      "display_name": "Python 3"
    },
    "language_info": {
      "name": "python"
    }
  },
  "cells": [
    {
      "cell_type": "code",
      "execution_count": 19,
      "metadata": {
        "colab": {
          "base_uri": "https://localhost:8080/"
        },
        "id": "1M9jtDU5UzyS",
        "outputId": "6acddfed-abc6-4378-be30-7aea407a4066"
      },
      "outputs": [
        {
          "output_type": "stream",
          "name": "stdout",
          "text": [
            "          商品   売上年        金額（千円）\n",
            "0   アロマキャンドル  2022          1710\n",
            "1   アロマキャンドル  2023           900\n",
            "2      コーヒー豆  2023           860\n",
            "3       セッケン  2022          1300\n",
            "4       セッケン  2023          1300\n",
            "5       ハチミツ  2022          1860\n",
            "6       ハチミツ  2023          1000\n",
            "7      フライパン  2023           670\n",
            "8     ワイングラス  2022           850\n",
            "9     ワイングラス  2023           850\n",
            "10        包丁  2022           940\n",
            "11        包丁  2023           940\n",
            "12        商品   売上年  金額（千円）金額（千円）\n",
            "13        水筒  2022          1150\n",
            "14        水筒  2023          1400\n",
            "15        紅茶  2022          2000\n",
            "16        紅茶  2023          1870\n"
          ]
        }
      ],
      "source": [
        "\n",
        "\n",
        "import pandas as pd\n",
        "import openpyxl\n",
        "\n",
        "#処理対象のファイル名のリストを格納\n",
        "file_list = ['2022_年間売上表.xlsx', '2023_年間売上表.xlsx']\n",
        "\n",
        "#結合後のデータを格納するための空のデータフレームを作成\n",
        "df = pd.DataFrame()\n",
        "\n",
        "#ファイルを一つずつ処理する\n",
        "for file_name in file_list:\n",
        "    #Excelファイルを読み込む\n",
        "    temp_df = pd.read_excel(file_name, header=None)\n",
        "\n",
        "    #データフレームの列名を指定\n",
        "    temp_df.columns = ['売上年', '商品', '金額（千円）']\n",
        "    # concat()でデータフレームを連結\n",
        "    df = pd.concat([df, temp_df], ignore_index=True)\n",
        "\n",
        "#連結したデータを「商品」ごとにグループ化し、売上年の合計金額に集約\n",
        "df = df.groupby(['商品', '売上年']).agg({'金額（千円）': 'sum'}).reset_index()\n",
        "\n",
        "print(df)\n",
        "\n",
        "# データフレームを新規ファイル「売上集計表.xlsx」に書き込む\n",
        "# 新規Excelファイルを作成\n",
        "writer = pd.ExcelWriter('売上集計表.xlsx')\n",
        "# データフレームをExcelに書き込む\n",
        "df.to_excel(writer, sheet_name='Sheet1', index=False)\n",
        "\n",
        "writer.close()\n",
        "\n",
        "workbook = openpyxl.load_workbook('売上集計表.xlsx')\n",
        "sheet = workbook.active\n",
        "#14行目を1行を削除\n",
        "sheet.delete_rows(14, 1)\n",
        "\n",
        "#openpyxl.styleモジュールのPatternFillクラスをインポート\n",
        "from openpyxl.styles import PatternFill\n",
        "\n",
        "# ヘッダー部分のセル範囲（A1からC1）とする\n",
        "cell_range = sheet['A1:C1']\n",
        "# fillパターンを薄いグレー（#F2F2F2）に設定\n",
        "fill = PatternFill(patternType='solid', fgColor='F2F2F2')\n",
        "\n",
        "for row in cell_range:\n",
        "    for cell in row:\n",
        "        cell.fill = fill\n",
        "\n",
        "workbook.save('売上集計表.xlsx')\n",
        "\n",
        "\n",
        "\n",
        "\n",
        "\n"
      ]
    }
  ]
}